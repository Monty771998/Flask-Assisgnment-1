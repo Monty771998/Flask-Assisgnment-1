{
 "cells": [
  {
   "cell_type": "markdown",
   "id": "75a8c635-ede3-4ef2-93a7-19f437a6d9f1",
   "metadata": {},
   "source": [
    "Q1. What is Flask Framework? What are the advantages of Flask Framework?"
   ]
  },
  {
   "cell_type": "markdown",
   "id": "691765db-2ddd-487a-ba23-ee6c20dd4873",
   "metadata": {},
   "source": [
    "Flask is a micro web framework written in Python. It is one of the most popular Python frameworks \n",
    "for developing web applications\n",
    "\n",
    "Advantages-\n",
    "1.Simple     : It is very simple framework and have simple core and does not require a lot of configurations\n",
    "2.Flexibility: Flask is a very flexible framework. It allows you to use a variety of programming \n",
    "               languages, template engines, and databases\n",
    "3.Ease of use: Flask is very easy to use. The documentation is clear and concise\n",
    "4.Performance: Very lightweighted and ideal to develop small to medium-sized web applications."
   ]
  },
  {
   "cell_type": "code",
   "execution_count": null,
   "id": "22dcdc34-fccd-4511-96dc-cd77e10d6488",
   "metadata": {},
   "outputs": [],
   "source": []
  },
  {
   "cell_type": "markdown",
   "id": "356bbdb1-9c3b-4d5e-ad83-99407e6ec2dd",
   "metadata": {},
   "source": [
    "Q2. Create a simple Flask application to display ‘Hello World!!’. Attach the screenshot of the output in\n",
    "Jupyter Notebook."
   ]
  },
  {
   "cell_type": "code",
   "execution_count": 1,
   "id": "fce67f71-337e-4ceb-a833-ed0ff33d0a15",
   "metadata": {},
   "outputs": [
    {
     "name": "stdout",
     "output_type": "stream",
     "text": [
      "Requirement already satisfied: flask in /opt/conda/lib/python3.10/site-packages (2.3.2)\n",
      "Requirement already satisfied: itsdangerous>=2.1.2 in /opt/conda/lib/python3.10/site-packages (from flask) (2.1.2)\n",
      "Requirement already satisfied: Werkzeug>=2.3.3 in /opt/conda/lib/python3.10/site-packages (from flask) (2.3.6)\n",
      "Requirement already satisfied: click>=8.1.3 in /opt/conda/lib/python3.10/site-packages (from flask) (8.1.3)\n",
      "Requirement already satisfied: blinker>=1.6.2 in /opt/conda/lib/python3.10/site-packages (from flask) (1.6.2)\n",
      "Requirement already satisfied: Jinja2>=3.1.2 in /opt/conda/lib/python3.10/site-packages (from flask) (3.1.2)\n",
      "Requirement already satisfied: MarkupSafe>=2.0 in /opt/conda/lib/python3.10/site-packages (from Jinja2>=3.1.2->flask) (2.1.1)\n",
      "Note: you may need to restart the kernel to use updated packages.\n"
     ]
    }
   ],
   "source": [
    "pip install flask\n"
   ]
  },
  {
   "cell_type": "code",
   "execution_count": null,
   "id": "2cfe1edd-a993-4886-b389-6025d8120c2b",
   "metadata": {},
   "outputs": [
    {
     "name": "stdout",
     "output_type": "stream",
     "text": [
      " * Serving Flask app '__main__'\n",
      " * Debug mode: off\n"
     ]
    },
    {
     "name": "stderr",
     "output_type": "stream",
     "text": [
      "WARNING: This is a development server. Do not use it in a production deployment. Use a production WSGI server instead.\n",
      " * Running on all addresses (0.0.0.0)\n",
      " * Running on http://127.0.0.1:5000\n",
      " * Running on http://172.18.0.19:5000\n",
      "Press CTRL+C to quit\n",
      "172.18.0.2 - - [02/Jul/2023 05:09:57] \"GET / HTTP/1.1\" 200 -\n",
      "172.18.0.2 - - [02/Jul/2023 05:10:33] \"GET /welcome HTTP/1.1\" 404 -\n"
     ]
    }
   ],
   "source": [
    "from flask import Flask\n",
    "\n",
    "app = Flask(__name__)\n",
    "\n",
    "@app.route(\"/\")\n",
    "def hello_world():\n",
    "    return \"<h1>Hello, World!!</h1>\"\n",
    "if __name__==\"__main__\":\n",
    "    app.run(host=\"0.0.0.0\")"
   ]
  },
  {
   "cell_type": "code",
   "execution_count": null,
   "id": "8aa67375-5427-4baa-914f-0ccafc79f4d5",
   "metadata": {},
   "outputs": [],
   "source": []
  },
  {
   "cell_type": "markdown",
   "id": "c4a34c1e-fe2a-4287-bbb4-021b65979fee",
   "metadata": {},
   "source": [
    "<img src=\"Screenshot.png\">"
   ]
  },
  {
   "cell_type": "code",
   "execution_count": null,
   "id": "a674aeb6-1ff1-4da2-9528-5c9366bb1c87",
   "metadata": {},
   "outputs": [],
   "source": []
  },
  {
   "cell_type": "markdown",
   "id": "e43d1082-dd09-4908-b0a1-df205183ca38",
   "metadata": {},
   "source": [
    "Q3. What is App routing in Flask? Why do we use app routes?"
   ]
  },
  {
   "cell_type": "code",
   "execution_count": null,
   "id": "0f8e4af5-aca3-4e89-86e3-be1b96eba53a",
   "metadata": {},
   "outputs": [],
   "source": [
    "App routing in Flask do mapping the Url to functions written into server.\n",
    "\n",
    "We use App routine for certain reasons-\n",
    "1.To make our URLs more meaningful: By giving our URLs descriptive names, we can make it easier for users \n",
    "                                    to remember and navigate to the pages they need. For example, instead of \n",
    "                                    using a URL like /index, we could use a URL like /home.\n",
    "2.To improve performance:    App routes can help us to improve the performance of our applications by\n",
    "                             caching the results of frequently-requested pages. For example, we could cache \n",
    "                             the results of the /home page so that users don't have to wait for the page to\n",
    "                             load every time they visit it."
   ]
  },
  {
   "cell_type": "code",
   "execution_count": null,
   "id": "49142f46-0102-4469-864b-fc5c2982687a",
   "metadata": {},
   "outputs": [],
   "source": []
  },
  {
   "cell_type": "markdown",
   "id": "5e1ba3bc-66c1-4dd2-9d82-2b812feaef1b",
   "metadata": {},
   "source": [
    "Q4. Create a “/welcome” route to display the welcome message “Welcome to ABC Corporation” and a “/”\n",
    "route to show the following details:\n",
    "Company Name: ABC Corporation\n",
    "Location: India\n",
    "Contact Detail: 999-999-9999\n",
    "\n",
    "Attach the screenshot of the output in Jupyter Notebook."
   ]
  },
  {
   "cell_type": "code",
   "execution_count": null,
   "id": "99eaeffc-d4c8-4f34-a6a7-3950ad0b4fb2",
   "metadata": {},
   "outputs": [
    {
     "name": "stdout",
     "output_type": "stream",
     "text": [
      " * Serving Flask app '__main__'\n",
      " * Debug mode: off\n"
     ]
    },
    {
     "name": "stderr",
     "output_type": "stream",
     "text": [
      "WARNING: This is a development server. Do not use it in a production deployment. Use a production WSGI server instead.\n",
      " * Running on all addresses (0.0.0.0)\n",
      " * Running on http://127.0.0.1:5000\n",
      " * Running on http://172.18.0.19:5000\n",
      "Press CTRL+C to quit\n",
      "172.18.0.2 - - [02/Jul/2023 05:11:33] \"GET / HTTP/1.1\" 200 -\n",
      "172.18.0.2 - - [02/Jul/2023 05:11:49] \"GET /welcome HTTP/1.1\" 200 -\n",
      "172.18.0.2 - - [02/Jul/2023 05:11:58] \"GET / HTTP/1.1\" 200 -\n"
     ]
    }
   ],
   "source": [
    "from flask import Flask\n",
    "\n",
    "app = Flask(__name__)\n",
    "\n",
    "@app.route(\"/welcome\")\n",
    "def welcome():\n",
    "    return \"Welcome to ABC Corporation\"\n",
    "@app.route(\"/\")\n",
    "def info():\n",
    "    return '''Company Name: ABC Corporation\n",
    "          Location: India\n",
    "          Contact Detail: 999-999-9999'''\n",
    "         \n",
    "if __name__==\"__main__\":\n",
    "    app.run(host=\"0.0.0.0\")"
   ]
  },
  {
   "cell_type": "markdown",
   "id": "be3e9648-8b22-4102-b5ea-69c6d909ecad",
   "metadata": {},
   "source": [
    "<img src=\"welcome.png\">"
   ]
  },
  {
   "cell_type": "markdown",
   "id": "1106ab4a-7a04-43bf-9e96-2546cc83bf1a",
   "metadata": {},
   "source": [
    "<img src = \"info.png\">"
   ]
  },
  {
   "cell_type": "code",
   "execution_count": null,
   "id": "b3cafb5f-6666-42c6-a31d-dd97e23b21f9",
   "metadata": {},
   "outputs": [],
   "source": []
  },
  {
   "cell_type": "markdown",
   "id": "175d07b0-397c-433e-841f-d1b61deee42a",
   "metadata": {},
   "source": [
    "Q5. What function is used in Flask for URL Building? Write a Python code to demonstrate the working of the\n",
    "url_for() function."
   ]
  },
  {
   "cell_type": "markdown",
   "id": "223edb72-d167-4037-b984-6f555e89f5f3",
   "metadata": {},
   "source": [
    "The url_for() function is used in Flask for URL building. It takes two arguments: the name of the view \n",
    "function and any keyword arguments that should be passed to the view function. The url_for() function\n",
    "returns a string that represents the URL for the view function."
   ]
  },
  {
   "cell_type": "code",
   "execution_count": null,
   "id": "b7929b10-b948-4e69-bb42-16b00c530ec6",
   "metadata": {},
   "outputs": [
    {
     "name": "stdout",
     "output_type": "stream",
     "text": [
      " * Serving Flask app '__main__'\n",
      " * Debug mode: off\n"
     ]
    },
    {
     "name": "stderr",
     "output_type": "stream",
     "text": [
      "WARNING: This is a development server. Do not use it in a production deployment. Use a production WSGI server instead.\n",
      " * Running on all addresses (0.0.0.0)\n",
      " * Running on http://127.0.0.1:5000\n",
      " * Running on http://172.18.0.19:5000\n",
      "Press CTRL+C to quit\n",
      "172.18.0.2 - - [02/Jul/2023 05:42:08] \"GET / HTTP/1.1\" 200 -\n",
      "172.18.0.2 - - [02/Jul/2023 05:42:19] \"GET /home/monu HTTP/1.1\" 200 -\n",
      "172.18.0.2 - - [02/Jul/2023 05:42:33] \"GET /home HTTP/1.1\" 404 -\n",
      "172.18.0.2 - - [02/Jul/2023 05:42:39] \"GET / HTTP/1.1\" 200 -\n",
      "172.18.0.2 - - [02/Jul/2023 05:43:40] \"GET /about HTTP/1.1\" 200 -\n"
     ]
    }
   ],
   "source": [
    "from flask import Flask\n",
    "\n",
    "app = Flask(__name__)\n",
    "\n",
    "@app.route(\"/\")\n",
    "def index():\n",
    "    return \"This is the index page.\"\n",
    "\n",
    "@app.route(\"/about\")\n",
    "def about():\n",
    "    return \"This is the about page.\"\n",
    "\n",
    "def home(name):\n",
    "    return f\"Welcome {name}!\"\n",
    "\n",
    "@app.route(\"/home/<name>\")\n",
    "def dynamic_home(name):\n",
    "    return home(name)\n",
    "if __name__==\"__main__\":\n",
    "    app.run(host=\"0.0.0.0\")"
   ]
  },
  {
   "cell_type": "code",
   "execution_count": null,
   "id": "277d0a54-8689-4ecc-9a8b-c28200c72ebb",
   "metadata": {},
   "outputs": [],
   "source": []
  },
  {
   "cell_type": "code",
   "execution_count": null,
   "id": "7c34a8e2-162a-4fdb-8d45-9b7b3e1bb6d4",
   "metadata": {},
   "outputs": [],
   "source": []
  },
  {
   "cell_type": "code",
   "execution_count": null,
   "id": "5ee88003-9dd7-46cb-966e-d1bf35764b74",
   "metadata": {},
   "outputs": [],
   "source": []
  },
  {
   "cell_type": "code",
   "execution_count": null,
   "id": "08c6d922-c89a-4dc6-967e-84f6ca735e54",
   "metadata": {},
   "outputs": [],
   "source": []
  },
  {
   "cell_type": "code",
   "execution_count": null,
   "id": "57c4038b-c047-4743-b7b3-7b7a9d52e11b",
   "metadata": {},
   "outputs": [],
   "source": []
  },
  {
   "cell_type": "code",
   "execution_count": null,
   "id": "f8f26ed6-0a41-4ecf-947a-e4a51706bda3",
   "metadata": {},
   "outputs": [],
   "source": []
  },
  {
   "cell_type": "code",
   "execution_count": null,
   "id": "fd4dbaa6-6961-44aa-b0f5-1936125ac154",
   "metadata": {},
   "outputs": [],
   "source": []
  }
 ],
 "metadata": {
  "kernelspec": {
   "display_name": "Python 3 (ipykernel)",
   "language": "python",
   "name": "python3"
  },
  "language_info": {
   "codemirror_mode": {
    "name": "ipython",
    "version": 3
   },
   "file_extension": ".py",
   "mimetype": "text/x-python",
   "name": "python",
   "nbconvert_exporter": "python",
   "pygments_lexer": "ipython3",
   "version": "3.10.8"
  }
 },
 "nbformat": 4,
 "nbformat_minor": 5
}
